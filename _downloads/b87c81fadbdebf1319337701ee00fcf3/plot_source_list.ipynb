{
  "cells": [
    {
      "cell_type": "code",
      "execution_count": null,
      "metadata": {
        "collapsed": false
      },
      "outputs": [],
      "source": [
        "%matplotlib inline"
      ]
    },
    {
      "cell_type": "markdown",
      "metadata": {},
      "source": [
        "\n# Source list\n\nDisplay a table of catalog files, detection list, and timeline of mergers..\n"
      ]
    },
    {
      "cell_type": "code",
      "execution_count": null,
      "metadata": {
        "collapsed": false
      },
      "outputs": [],
      "source": [
        "import matplotlib.pyplot as plt\nimport numpy as np\nfrom chainconsumer import ChainConsumer\n\nfrom lisacattools.catalog import GWCatalogs\nfrom lisacattools.catalog import GWCatalogType\n\n# get list catalog files\ncatPath = \"../../tutorial/data/mbh\"\ncatalogs = GWCatalogs.create(GWCatalogType.MBH, catPath, \"*.h5\")\nlast_cat = catalogs.get_last_catalog()"
      ]
    },
    {
      "cell_type": "markdown",
      "metadata": {},
      "source": [
        "Load detections from final catalog.\nBecause catalogs are cummulative, this will include all sources\n\n"
      ]
    },
    {
      "cell_type": "code",
      "execution_count": null,
      "metadata": {
        "collapsed": false
      },
      "outputs": [],
      "source": [
        "detections_attr = last_cat.get_attr_detections()\ndetections = last_cat.get_detections(detections_attr)\ndetections[[\"Log Likelihood\", \"Mass 1\", \"Mass 2\", \"Luminosity Distance\"]]\n\ndetections.sort_values(\n    by=\"Barycenter Merge Time\", ascending=True, inplace=True\n)\nmergeTimes = detections[\"Barycenter Merge Time\"]\nmergeT = np.insert(np.array(mergeTimes) / 86400, 0, 0)\nmergeCount = np.arange(0, len(mergeTimes) + 1)\n\n# setup plot\nfig, ax = plt.subplots(figsize=[8, 6], dpi=100)\n\n# configure axes\nax.step(mergeT, mergeCount, where=\"post\")\nax.set_xlabel(\"Observation Time [days]\")\nax.set_ylabel(\"Merger Count\")\nax.grid()\n\n# loop over events by merger time and make annotated figure\nfor m in range(0, len(mergeTimes)):\n    plt.annotate(\n        mergeTimes.index[m],  # this is the text\n        (mergeTimes[m] / 86400, mergeCount[m]),  # this is the point to label\n        textcoords=\"offset points\",  # how to position the text\n        xytext=(2, 5),  # distance from text to points (x,y)\n    )\nplt.show()"
      ]
    }
  ],
  "metadata": {
    "kernelspec": {
      "display_name": "Python 3",
      "language": "python",
      "name": "python3"
    },
    "language_info": {
      "codemirror_mode": {
        "name": "ipython",
        "version": 3
      },
      "file_extension": ".py",
      "mimetype": "text/x-python",
      "name": "python",
      "nbconvert_exporter": "python",
      "pygments_lexer": "ipython3",
      "version": "3.10.6"
    }
  },
  "nbformat": 4,
  "nbformat_minor": 0
}