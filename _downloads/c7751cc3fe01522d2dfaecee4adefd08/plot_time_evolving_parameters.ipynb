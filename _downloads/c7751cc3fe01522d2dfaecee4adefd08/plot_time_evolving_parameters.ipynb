{
  "cells": [
    {
      "cell_type": "code",
      "execution_count": null,
      "metadata": {
        "collapsed": false
      },
      "outputs": [],
      "source": [
        "%matplotlib inline"
      ]
    },
    {
      "cell_type": "markdown",
      "metadata": {},
      "source": [
        "\n# Connecting catalogs\n\nLocate a source in an updated catalog and compare parameters.\n"
      ]
    },
    {
      "cell_type": "markdown",
      "metadata": {},
      "source": [
        "This example shows how to find a particular source after the catalog has been updated\nbased on the `parent` meta data, and produces a corner plot showing how the parameter\nestimation evolves with time.\n\n"
      ]
    },
    {
      "cell_type": "code",
      "execution_count": null,
      "metadata": {
        "collapsed": false
      },
      "outputs": [],
      "source": [
        "import os\n\nimport numpy as np\nimport pandas as pd\nfrom chainconsumer import ChainConsumer\n\nfrom lisacattools.catalog import GWCatalog\nfrom lisacattools.catalog import GWCatalogs\nfrom lisacattools.catalog import GWCatalogType"
      ]
    },
    {
      "cell_type": "markdown",
      "metadata": {},
      "source": [
        "Start by loading the 03 month catalog and selecting a source to follow\n\n"
      ]
    },
    {
      "cell_type": "code",
      "execution_count": null,
      "metadata": {
        "collapsed": false
      },
      "outputs": [],
      "source": [
        "catPath = \"../../tutorial/data/ucb\"\n\nmeta_catalog = GWCatalogs.create(\n    GWCatalogType.UCB, catPath, \"cat7864320_v3.h5\"\n)\nold_catalog = meta_catalog.get_last_catalog()\n\ndetections_attr = old_catalog.get_attr_detections()\nold_cat = old_catalog.get_detections(detections_attr)\n\n# pick a source, any source\nold_source = \"LDC0027827268\"\nsample_attr = old_catalog.get_attr_source_samples(old_source)\nold_samples = old_catalog.get_source_samples(old_source, sample_attr)\n\nold_cat.loc[[old_source], [\"SNR\", \"Frequency\", \"Amplitude\"]]"
      ]
    },
    {
      "cell_type": "markdown",
      "metadata": {},
      "source": [
        "Load the 06 month catalog and find the current name for `old_source`\n\n"
      ]
    },
    {
      "cell_type": "code",
      "execution_count": null,
      "metadata": {
        "collapsed": false
      },
      "outputs": [],
      "source": [
        "meta_catalog = GWCatalogs.create(\n    GWCatalogType.UCB, catPath, \"cat15728640_v2.h5\"\n)\nnew_catalog = meta_catalog.get_last_catalog()\n\ndetections_attr = new_catalog.get_attr_detections()\nnew_cat = new_catalog.get_detections(detections_attr)\n\n# select source that lists old_source as parent\nnew_cat = new_cat[(new_cat[\"parent\"] == old_source)]\nnew_source = new_cat.index.values[0]\n\nsample_attr = new_catalog.get_attr_source_samples(new_source)\nnew_samples = new_catalog.get_source_samples(new_source, sample_attr)\n\nnew_cat.loc[[new_source], [\"parent\", \"SNR\", \"Frequency\", \"Amplitude\"]]"
      ]
    },
    {
      "cell_type": "markdown",
      "metadata": {},
      "source": [
        "Plot the posteriors for the 03 and 06 months inferences for the source\n\n"
      ]
    },
    {
      "cell_type": "code",
      "execution_count": null,
      "metadata": {
        "collapsed": false
      },
      "outputs": [],
      "source": [
        "c = ChainConsumer()\n\n# Select which parameters to plot & format the axes labels\nparameters = [\n    \"Frequency\",\n    \"Amplitude\",\n    \"Ecliptic Longitude\",\n    \"Ecliptic Latitude\",\n    \"Inclination\",\n]\nparameter_labels = [\n    r\"$f_0\\ [{\\rm Hz}]$\",\n    r\"$\\mathcal{A}$\",\n    r\"$\\phi\\ [{\\rm rad}]$\",\n    r\"$\\theta\\ [{\\rm rad}]$\",\n    r\"$\\iota\\ [{\\rm rad}]$\",\n]\n\n\n# add chains\nc.add_chain(\n    old_samples[parameters].values,\n    parameters=parameter_labels,\n    cloud=True,\n    name=old_source,\n)\nc.add_chain(\n    new_samples[parameters].values,\n    parameters=parameter_labels,\n    cloud=True,\n    name=new_source,\n)\n\n# plot!\nc.configure(\n    sigmas=[1, 2, 3],\n    linestyles=[\"-\", \"--\"],\n    legend_color_text=False,\n    legend_kwargs={\"fontsize\": 18},\n)\nfig = c.plotter.plot(figsize=1.5)"
      ]
    }
  ],
  "metadata": {
    "kernelspec": {
      "display_name": "Python 3",
      "language": "python",
      "name": "python3"
    },
    "language_info": {
      "codemirror_mode": {
        "name": "ipython",
        "version": 3
      },
      "file_extension": ".py",
      "mimetype": "text/x-python",
      "name": "python",
      "nbconvert_exporter": "python",
      "pygments_lexer": "ipython3",
      "version": "3.10.6"
    }
  },
  "nbformat": 4,
  "nbformat_minor": 0
}