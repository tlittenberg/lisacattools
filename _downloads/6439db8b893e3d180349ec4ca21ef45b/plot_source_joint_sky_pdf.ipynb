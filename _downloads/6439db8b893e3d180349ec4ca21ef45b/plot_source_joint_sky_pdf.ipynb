{
  "cells": [
    {
      "cell_type": "code",
      "execution_count": null,
      "metadata": {
        "collapsed": false
      },
      "outputs": [],
      "source": [
        "%matplotlib inline"
      ]
    },
    {
      "cell_type": "markdown",
      "metadata": {},
      "source": [
        "\n# Joint PDF of sky location\n\nPlot joint posterior of all catalog sources in galactic coordinates.\n"
      ]
    },
    {
      "cell_type": "markdown",
      "metadata": {},
      "source": [
        "Load catalogs and combine chain samples\n\n"
      ]
    },
    {
      "cell_type": "code",
      "execution_count": null,
      "metadata": {
        "collapsed": false
      },
      "outputs": [],
      "source": [
        "import logging\n\nimport ligo.skymap.plot\nimport matplotlib.pyplot as plt\nimport numpy as np\nimport pandas as pd\n\nfrom lisacattools import convert_ecliptic_to_galactic\nfrom lisacattools import HPhist\nfrom lisacattools import OFF\nfrom lisacattools.catalog import GWCatalogs\nfrom lisacattools.catalog import GWCatalogType\n\nlogger = logging.getLogger(\"lisacattools\")\nlogger.setLevel(\n    OFF\n)  # Set the logger to OFF. By default, the logger is set to INFO\n\n# Start by loading the main catalog file processed from GBMCMC outputs\ncatPath = \"../../tutorial/data/ucb\"\ncatalogs = GWCatalogs.create(GWCatalogType.UCB, catPath, \"cat15728640_v2.h5\")\ncatalog = catalogs.get_last_catalog()\n\n# loop over all sources in catalog and append chain samples to new dataframe\nsources = list(catalog.get_detections())\n\nsamples_list = list()\nfor source in sources:\n\n    # get chain samples\n    samples = catalog.get_source_samples(\n        source, [\"coslat\", \"Ecliptic Longitude\"]\n    )\n\n    # recompute ecliptic latitude to correct error in HDF5 files\n    samples[\"Ecliptic Latitude\"] = np.pi / 2 - np.arccos(samples[\"coslat\"])\n\n    # append sky location parameters to joint posterior list\n    samples_list.append(samples[[\"Ecliptic Latitude\", \"Ecliptic Longitude\"]])\n\n# combine all source samples into one dataframe\nall_sources = pd.concat(samples_list)"
      ]
    },
    {
      "cell_type": "markdown",
      "metadata": {},
      "source": [
        "Produce healpix map of joint posterior\n\n"
      ]
    },
    {
      "cell_type": "code",
      "execution_count": null,
      "metadata": {
        "collapsed": false
      },
      "outputs": [],
      "source": [
        "nside = 64\nhpmap = HPhist(all_sources, nside)\nfig = plt.figure(figsize=(8, 6), dpi=100)\n\nax = plt.axes([0.05, 0.05, 0.9, 0.9], projection=\"geo degrees mollweide\")\nax.grid()\n\n# use logarithmic scaling for density\nax.imshow_hpx(np.log10(hpmap + 1), cmap=\"plasma\")\nplt.show()"
      ]
    }
  ],
  "metadata": {
    "kernelspec": {
      "display_name": "Python 3",
      "language": "python",
      "name": "python3"
    },
    "language_info": {
      "codemirror_mode": {
        "name": "ipython",
        "version": 3
      },
      "file_extension": ".py",
      "mimetype": "text/x-python",
      "name": "python",
      "nbconvert_exporter": "python",
      "pygments_lexer": "ipython3",
      "version": "3.10.6"
    }
  },
  "nbformat": 4,
  "nbformat_minor": 0
}