{
  "cells": [
    {
      "cell_type": "code",
      "execution_count": null,
      "metadata": {
        "collapsed": false
      },
      "outputs": [],
      "source": [
        "%matplotlib inline"
      ]
    },
    {
      "cell_type": "markdown",
      "metadata": {},
      "source": [
        "\n# Time-evolving violin plot\n\nViolin plot of select parameters for a single source showing how\nparameter estimation changes with observing time over all observing epochs\n"
      ]
    },
    {
      "cell_type": "code",
      "execution_count": null,
      "metadata": {
        "collapsed": false
      },
      "outputs": [],
      "source": [
        "import matplotlib.pyplot as plt\nimport numpy as np\nimport seaborn as sns\n\nfrom lisacattools.catalog import GWCatalogs\nfrom lisacattools.catalog import GWCatalogType\n\n# get list catalog files\ncatPath = \"../../tutorial/data/mbh\"\ncatalogs = GWCatalogs.create(GWCatalogType.MBH, catPath, \"*.h5\")\n\nlast_cat = catalogs.get_last_catalog()\ndetections_attr = last_cat.get_attr_detections()\ndetections = last_cat.get_detections(detections_attr)\n\ndetections = detections.sort_values(by=\"Mass 1\")\ndetections[\n    [\"Parent\", \"Log Likelihood\", \"Mass 1\", \"Mass 2\", \"Luminosity Distance\"]\n]"
      ]
    },
    {
      "cell_type": "markdown",
      "metadata": {},
      "source": [
        "Choose a source from the list of detections and get its history through the different catalogs\n\n"
      ]
    },
    {
      "cell_type": "code",
      "execution_count": null,
      "metadata": {
        "collapsed": false
      },
      "outputs": [],
      "source": [
        "# Pick a source, any source\nsourceIdx = \"MBH005546845\"\n\n# Get source history and display table with parameters and observing weeks containing source\nsrcHist = catalogs.get_lineage(last_cat.name, sourceIdx)\nsrcHist.drop_duplicates(subset=\"Log Likelihood\", keep=\"last\", inplace=True)\nsrcHist.sort_values(by=\"Observation Week\", ascending=True, inplace=True)\nsrcHist[\n    [\n        \"Observation Week\",\n        \"Parent\",\n        \"Log Likelihood\",\n        \"Mass 1\",\n        \"Mass 2\",\n        \"Luminosity Distance\",\n    ]\n]\n\nallEpochs = catalogs.get_lineage_data(srcHist)\n\n# For plotting purposes, we add a new parameter that is merger time error (in hours), expressed relative to median merger time after observation is complete\nlatestWeek = np.max(allEpochs[\"Observation Week\"])\nallEpochs[\"Merge Time Error\"] = (\n    allEpochs[\"Barycenter Merge Time\"]\n    - np.median(\n        allEpochs[allEpochs[\"Observation Week\"] == latestWeek][\n            \"Barycenter Merge Time\"\n        ]\n    )\n) / 3600"
      ]
    },
    {
      "cell_type": "markdown",
      "metadata": {},
      "source": [
        "Create the violin plot\nselect the parameters to plot and scaling (linear or log) for each\n\n"
      ]
    },
    {
      "cell_type": "code",
      "execution_count": null,
      "metadata": {
        "collapsed": false
      },
      "outputs": [],
      "source": [
        "params = [\n    \"Mass 1\",\n    \"Mass 2\",\n    \"Spin 1\",\n    \"Spin 2\",\n    \"Luminosity Distance\",\n    \"Merge Time Error\",\n]\nscales = [\"log\", \"log\", \"linear\", \"linear\", \"linear\", \"linear\"]\n\n# arrange the plots into a grid of subplots\nncols = 2\nnrows = int(np.ceil(len(params) / ncols))\nfig = plt.figure(figsize=[10, 10], dpi=100)\n\n# plot the violin plot for each parameter\nfor idx, param in enumerate(params):\n    ax = fig.add_subplot(nrows, ncols, idx + 1)\n    sns.violinplot(\n        ax=ax,\n        x=\"Observation Week\",\n        y=param,\n        data=allEpochs,\n        scale=\"width\",\n        width=0.8,\n        inner=\"quartile\",\n    )\n    ax.set_yscale(scales[idx])\n    ax.grid(axis=\"y\")\n\n# add an overall title\nfig.suptitle(\"Parameter Evolution for %s\" % sourceIdx)\nplt.show()"
      ]
    }
  ],
  "metadata": {
    "kernelspec": {
      "display_name": "Python 3",
      "language": "python",
      "name": "python3"
    },
    "language_info": {
      "codemirror_mode": {
        "name": "ipython",
        "version": 3
      },
      "file_extension": ".py",
      "mimetype": "text/x-python",
      "name": "python",
      "nbconvert_exporter": "python",
      "pygments_lexer": "ipython3",
      "version": "3.10.6"
    }
  },
  "nbformat": 4,
  "nbformat_minor": 0
}