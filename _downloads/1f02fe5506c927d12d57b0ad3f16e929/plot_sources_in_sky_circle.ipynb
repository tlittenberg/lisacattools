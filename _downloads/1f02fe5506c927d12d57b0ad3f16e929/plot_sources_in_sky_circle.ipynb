{
  "cells": [
    {
      "cell_type": "code",
      "execution_count": null,
      "metadata": {
        "collapsed": false
      },
      "outputs": [],
      "source": [
        "%matplotlib inline"
      ]
    },
    {
      "cell_type": "markdown",
      "metadata": {},
      "source": [
        "\n# Select Sources in Sky Region\n\nPlot 2-sigma contours of all sources consistent with input error circle on the sky in galactic coordinates.\n"
      ]
    },
    {
      "cell_type": "code",
      "execution_count": null,
      "metadata": {
        "collapsed": false
      },
      "outputs": [],
      "source": [
        "import logging\nimport sys\n\nimport healpy as hp\nimport matplotlib.cm as cm\nimport matplotlib.colors as colors\nimport matplotlib.pyplot as plt\nimport numpy as np\nfrom matplotlib.patches import Ellipse\n\nfrom lisacattools import confidence_ellipse\nfrom lisacattools import convert_ecliptic_to_galactic\nfrom lisacattools import OFF\nfrom lisacattools.catalog import GWCatalogs\nfrom lisacattools.catalog import GWCatalogType\nfrom lisacattools.utils import HPbin\nfrom lisacattools.utils import HPhist\n\nlogger = logging.getLogger(\"lisacattools\")\nlogger.setLevel(\n    OFF\n)  # Set the logger to OFF. By default, the logger is set to INFO\n\n# Start by loading the main catalog file processed from GBMCMC outputs\ncatType = GWCatalogType.UCB  # catalog type (UCB or MBH)\ncatPath = \"../../tutorial/data/ucb\"  # path to catalog files\ncatName = \"cat15728640_v2.h5\"\n\ncatalogs = GWCatalogs.create(catType, catPath, catName)\ncatalog = catalogs.get_last_catalog()\ndetections_df = catalog.get_dataset(\"detections\")"
      ]
    },
    {
      "cell_type": "markdown",
      "metadata": {},
      "source": [
        "Define error cirlce on the sky from which we will select catalog entries.\nTwo circles are defined, one with larger radius by a constant factor `scale`.\nThe large circle is used to filter the full list of sources based on point-estimates.\nThe smaller circle defines the region where we select the posterior samples.\n\n"
      ]
    },
    {
      "cell_type": "code",
      "execution_count": null,
      "metadata": {
        "collapsed": false
      },
      "outputs": [],
      "source": [
        "# this is the error circle we are querying\nlat_deg = 0\nlon_deg = 100\nrad_deg = 10\nscale = 3  #\n\n# convert to spherical polar radians and map region on the sky to array of healpix indices\nnside = 32\n\ntheta = 0.5 * np.pi - np.deg2rad(lat_deg)\nphi = np.deg2rad(lon_deg)\n\n# define error circles for selecting catalog entires\ncentroid = hp.ang2vec(theta, phi)  # center point in xyz\nerr_circle_search = hp.query_disc(\n    nside, centroid, np.deg2rad(rad_deg) * scale\n)  # large circle for filtering point estimates\nerr_circle_select = hp.query_disc(\n    nside, centroid, np.deg2rad(rad_deg)\n)  # target circle for selecting samples"
      ]
    },
    {
      "cell_type": "markdown",
      "metadata": {},
      "source": [
        "Filter catalog entries that are consistent with the error circle,\nand compute their posterior mass contained within.\n\n"
      ]
    },
    {
      "cell_type": "code",
      "execution_count": null,
      "metadata": {
        "collapsed": false
      },
      "outputs": [],
      "source": [
        "# filter detections on err_circle_search\nHPbin(detections_df, nside)\ndetections_df[\"target\"] = detections_df[\"HEALPix bin\"].isin(err_circle_search)\n\n\n# pick out the subset that have a point estimate  inside of err_circle_search\ntargets_df = detections_df[detections_df[\"target\"] == True]\n\n# loop over each target source & compute fraction of posterior in err_circle_select\ntargets = list(targets_df.index)\npmatch = list()\n\nfor target in targets:\n\n    # get chain samples\n    samples = catalog.get_source_samples(target)\n    n_total = len(samples.index)\n\n    # healpix binning of chain samples\n    HPbin(samples, nside)\n\n    # check if sample is inside of err_circle_select\n    samples[\"match\"] = samples[\"HEALPix bin\"].isin(err_circle_select)\n    samples_match = samples[samples[\"match\"] == True]\n    n_match = len(samples_match.index)\n\n    # save fraction of posterior samples inside of err_circle_select\n    n_frac = n_match / n_total\n    pmatch.append(n_frac)\n\n# add column to DataFrame w/ fraction of posterior samples pmatch\ntargets_df.insert(0, \"Pmatch\", pmatch)"
      ]
    },
    {
      "cell_type": "markdown",
      "metadata": {},
      "source": [
        "Cut sources based on posterio mass in `err_circle_select` and\ndisplay the surviving candidates in table form.\n\n"
      ]
    },
    {
      "cell_type": "code",
      "execution_count": null,
      "metadata": {
        "collapsed": false
      },
      "outputs": [],
      "source": [
        "# only keep sources with > 10% posterior mass contained wthin err_circle_select\ntargets_df_cut = targets_df[(targets_df[\"Pmatch\"] > 0.1)]\ntargets_df_cut = targets_df_cut.sort_values(by=\"Pmatch\", ascending=False)\ntargets_df_cut[\n    [\"Pmatch\", \"SNR\", \"Frequency\", \"Frequency Derivative\", \"cosinc\"]\n]"
      ]
    },
    {
      "cell_type": "markdown",
      "metadata": {},
      "source": [
        "Plot the 2-sigma contours of the target circles consistent with\nthe error circle\n\n"
      ]
    },
    {
      "cell_type": "code",
      "execution_count": null,
      "metadata": {
        "collapsed": false
      },
      "outputs": [],
      "source": [
        "# set up the figure\nfig = plt.figure(figsize=(12, 6), dpi=110)\nax = plt.axes()\nax.grid()\n\n# dynamically set scale of plot\ndelta = 3 * rad_deg\nax.set(\n    xlim=(lon_deg - delta, lon_deg + delta),\n    ylim=(lat_deg - delta, lat_deg + delta),\n    xlabel=\"Galactic Longitude [deg]\",\n    ylabel=\"Galactic Latitude [deg]\",\n    aspect=\"equal\",\n)\n\n# set color of sigma contours by inclusion fraction\ncmap = plt.get_cmap(\"Set2\")\nrgb_cm = cmap.colors  # returns array-like color\n\n# loop over all target sources adding 1- and 2-sigma contours to plot\ntargets = list(targets_df_cut.index)\nfor i, target in enumerate(targets):\n\n    # get chain samples\n    samples = catalog.get_source_samples(target)\n\n    # convert from ecliptic to galactic coordinates\n    convert_ecliptic_to_galactic(samples)\n\n    # get Pmatch value for current target\n    Pmatch = targets_df_cut.loc[target].Pmatch\n\n    # get centroid and 2-sigma contours in galactic coordinates, add to plot\n    confidence_ellipse(\n        samples[[\"Galactic Longitude\", \"Galactic Latitude\"]],\n        ax,\n        n_std=2,\n        edgecolor=rgb_cm[i % len(rgb_cm)],\n        alpha=Pmatch,\n        linewidth=2,\n        label=target,\n    )\n\nax.legend(targets)\n\n# plot the target error circle\nerror_circle = plt.Circle(\n    (lon_deg, lat_deg),\n    rad_deg,\n    color=\"gray\",\n    fill=False,\n    linestyle=\"--\",\n    linewidth=2,\n)\nax.add_patch(error_circle)\n\nplt.show()"
      ]
    }
  ],
  "metadata": {
    "kernelspec": {
      "display_name": "Python 3",
      "language": "python",
      "name": "python3"
    },
    "language_info": {
      "codemirror_mode": {
        "name": "ipython",
        "version": 3
      },
      "file_extension": ".py",
      "mimetype": "text/x-python",
      "name": "python",
      "nbconvert_exporter": "python",
      "pygments_lexer": "ipython3",
      "version": "3.10.6"
    }
  },
  "nbformat": 4,
  "nbformat_minor": 0
}