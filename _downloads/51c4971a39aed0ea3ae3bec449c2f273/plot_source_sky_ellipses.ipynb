{
  "cells": [
    {
      "cell_type": "code",
      "execution_count": null,
      "metadata": {
        "collapsed": false
      },
      "outputs": [],
      "source": [
        "%matplotlib inline"
      ]
    },
    {
      "cell_type": "markdown",
      "metadata": {},
      "source": [
        "\n# Sky Localization Ellipses\n\nPlot 1-sigma contours of well-localized sources' sky location in galactic coordinates.\n"
      ]
    },
    {
      "cell_type": "markdown",
      "metadata": {},
      "source": [
        "Load catalog and compute sky areas\n\n"
      ]
    },
    {
      "cell_type": "code",
      "execution_count": null,
      "metadata": {
        "collapsed": false
      },
      "outputs": [],
      "source": [
        "import matplotlib.cm as cm\nimport matplotlib.colors as colors\nimport matplotlib.pyplot as plt\nimport numpy as np\nimport pandas as pd\nfrom matplotlib.patches import Ellipse\n\nfrom lisacattools import confidence_ellipse\nfrom lisacattools import convert_ecliptic_to_galactic\nfrom lisacattools import ellipse_area\nfrom lisacattools import GWCatalog\nfrom lisacattools import GWCatalogs\nfrom lisacattools import GWCatalogType\n\n# Start by loading the main catalog file processed from GBMCMC outputs\ncatPath = \"../../tutorial/data/ucb\"\ncatalogs = GWCatalogs.create(GWCatalogType.UCB, catPath, \"cat15728640_v2.h5\")\nfinal_catalog = catalogs.get_last_catalog()\ndetections_attr = final_catalog.get_attr_detections()\ndetections = final_catalog.get_detections(detections_attr)\n\n\n# loop through all of the sources, compute sky area, and add as a column to the catalog\narea = np.empty(len(detections.index))\n\nsources = list(detections.index)\nfor idx, source in enumerate(sources):\n\n    # load source chain\n    samples = final_catalog.get_source_samples(source)\n\n    # correct sign error in catalog production\n    samples[\"Ecliptic Latitude\"] = np.pi / 2 - np.arccos(samples[\"coslat\"])\n\n    # convert from ecliptic to galactic coordinates\n    convert_ecliptic_to_galactic(samples)\n\n    # create numpy arrays of the derived parameters\n    area[idx] = ellipse_area(\n        samples[[\"Galactic Longitude\", \"Galactic Latitude\"]]\n    )\n\n# insert new numpy arrays into main catalog dataframe\ndetections.insert(len(detections.columns), \"Sky Area\", area, True)\n\n# show that, indeed, Sky Area is now a column in the dataframe\ndetections[[\"Frequency\", \"SNR\", \"Sky Area\"]].head()"
      ]
    },
    {
      "cell_type": "markdown",
      "metadata": {},
      "source": [
        "Cut source catalog on localization, and plot skymap of selected sources.\nIn this example we use 100 sq deg as the localization threshold.\n*NOTE:* 10 sq deg is more appropriate for EM follow-up, but makes for a\nless interesting figure\n\n"
      ]
    },
    {
      "cell_type": "code",
      "execution_count": null,
      "metadata": {
        "collapsed": false
      },
      "outputs": [],
      "source": [
        "# Make new dataframe containing only \"well-localized\" events\nmax_sky_area = 100  # localization threshold (square degrees)\ncat_loc = detections[\n    (detections[\"Sky Area\"] < max_sky_area)\n]  # cut sources based on max_sky_area\n\n# set up the figure\nfig = plt.figure(figsize=(12, 6), dpi=110)\nax = plt.axes()\n\nax.grid()\nax.set(\n    xlim=(-180, 180),\n    ylim=(-90, 90),\n    xlabel=\"Galactic Longitude\",\n    ylabel=\"Galactic Latitude\",\n)\n\n# color ellipses by log frequency\ncNorm = colors.LogNorm(\n    vmin=cat_loc[\"Frequency\"].min(), vmax=cat_loc[\"Frequency\"].max()\n)\nscalarMap = cm.ScalarMappable(norm=cNorm, cmap=plt.cm.get_cmap(\"viridis_r\"))\ncbar = fig.colorbar(scalarMap)\ncbar.set_label(\"Frequency [Hz]\")\n\n# loop over all sources adding ellipse to plot\nsources = list(cat_loc.index)\nfor source in sources:\n\n    # get chain samples\n    samples = final_catalog.get_source_samples(source)\n\n    samples[\"Ecliptic Latitude\"] = np.pi / 2 - np.arccos(samples[\"coslat\"])\n\n    # convert from ecliptic to galactic coordinates\n    convert_ecliptic_to_galactic(samples)\n\n    # get centroid and 1-sigma contours in galactic coordinates, add to plot\n    confidence_ellipse(\n        samples[[\"Galactic Longitude\", \"Galactic Latitude\"]],\n        ax,\n        n_std=1.0,\n        edgecolor=scalarMap.to_rgba(np.array(cat_loc.loc[source].Frequency)),\n        linewidth=1.0,\n    )\n\nplt.show()"
      ]
    }
  ],
  "metadata": {
    "kernelspec": {
      "display_name": "Python 3",
      "language": "python",
      "name": "python3"
    },
    "language_info": {
      "codemirror_mode": {
        "name": "ipython",
        "version": 3
      },
      "file_extension": ".py",
      "mimetype": "text/x-python",
      "name": "python",
      "nbconvert_exporter": "python",
      "pygments_lexer": "ipython3",
      "version": "3.10.6"
    }
  },
  "nbformat": 4,
  "nbformat_minor": 0
}