{
  "cells": [
    {
      "cell_type": "code",
      "execution_count": null,
      "metadata": {
        "collapsed": false
      },
      "outputs": [],
      "source": [
        "%matplotlib inline"
      ]
    },
    {
      "cell_type": "markdown",
      "metadata": {},
      "source": [
        "\n# Corner plots\n\nProduce corner plots for a single sources' parameters.\n"
      ]
    },
    {
      "cell_type": "markdown",
      "metadata": {},
      "source": [
        "Load catalog and select individual source\n\n"
      ]
    },
    {
      "cell_type": "code",
      "execution_count": null,
      "metadata": {
        "collapsed": false
      },
      "outputs": [],
      "source": [
        "import matplotlib.pyplot as plt\nimport numpy as np\n\nfrom lisacattools.catalog import GWCatalog\nfrom lisacattools.catalog import GWCatalogs\nfrom lisacattools.catalog import GWCatalogType\n\n# load catalog\ncatPath = \"../../tutorial/data/ucb\"\ncatalogs = GWCatalogs.create(GWCatalogType.UCB, catPath, \"cat15728640_v2.h5\")\nfinal_catalog = catalogs.get_last_catalog()\ndetections_attr = final_catalog.get_attr_detections()\ndetections = final_catalog.get_detections(detections_attr)\n\n# get index of source with maximum SNR\nsourceId = detections.index.values[\n    np.argmin(np.abs(np.array(detections[\"SNR\"]) - detections[\"SNR\"].max()))\n]\ndetections.loc[[sourceId], [\"SNR\", \"Frequency\"]]"
      ]
    },
    {
      "cell_type": "markdown",
      "metadata": {},
      "source": [
        "Corner plot of select source parameters using `corner` module\n\n"
      ]
    },
    {
      "cell_type": "code",
      "execution_count": null,
      "metadata": {
        "collapsed": false
      },
      "outputs": [],
      "source": [
        "import corner\n\n# read in the chain samples for this source\nsamples = final_catalog.get_source_samples(sourceId)\n\n# list of subset of paramters that are particularly interesting\nparameters = [\"Frequency\", \"Frequency Derivative\", \"Amplitude\", \"Inclination\"]\n\n# corner plot of source.\nfig = corner.corner(samples[parameters])"
      ]
    },
    {
      "cell_type": "markdown",
      "metadata": {},
      "source": [
        "Can also be done with ChainConsumer for prettier plots\n\n"
      ]
    },
    {
      "cell_type": "code",
      "execution_count": null,
      "metadata": {
        "collapsed": false
      },
      "outputs": [],
      "source": [
        "from chainconsumer import ChainConsumer\n\n# get dataframe into numpy array (this shouldn't be necessary)\ndf = samples[parameters].values\n\n# rescale columns\ndf[:, 0] = df[:, 0] * 1000  # f in mHz\ndf[:, 1] = df[:, 1] / 1e-15  # df/dt\ndf[:, 2] = df[:, 2] / 1e-22  # A\ndf[:, 3] = df[:, 3] * 180.0 / np.pi  # inc in deg\nparameter_symbols = [\n    r\"$f\\ {\\rm [mHz]}$\",\n    r\"$\\dot{f}\\ [s^{-2}]\\times 10^{-16}$\",\n    r\"$\\mathcal{A} \\times 10^{-23}$\",\n    r\"$\\iota\\ {\\rm [deg]}$\",\n]\n\n# add source chain to ChainConsumer object\nc = ChainConsumer().add_chain(df, parameters=parameter_symbols, cloud=True)\n\n# plot!\nfig = c.plotter.plot(figsize=1.5)\nplt.show()"
      ]
    }
  ],
  "metadata": {
    "kernelspec": {
      "display_name": "Python 3",
      "language": "python",
      "name": "python3"
    },
    "language_info": {
      "codemirror_mode": {
        "name": "ipython",
        "version": 3
      },
      "file_extension": ".py",
      "mimetype": "text/x-python",
      "name": "python",
      "nbconvert_exporter": "python",
      "pygments_lexer": "ipython3",
      "version": "3.10.6"
    }
  },
  "nbformat": 4,
  "nbformat_minor": 0
}