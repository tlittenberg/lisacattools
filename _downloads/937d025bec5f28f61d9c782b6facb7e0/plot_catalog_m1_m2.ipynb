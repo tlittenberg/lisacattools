{
  "cells": [
    {
      "cell_type": "code",
      "execution_count": null,
      "metadata": {
        "collapsed": false
      },
      "outputs": [],
      "source": [
        "%matplotlib inline"
      ]
    },
    {
      "cell_type": "markdown",
      "metadata": {},
      "source": [
        "\n# Catalog mass plot\n\nPlot component masses of all detections\n"
      ]
    },
    {
      "cell_type": "code",
      "execution_count": null,
      "metadata": {
        "collapsed": false
      },
      "outputs": [],
      "source": [
        "import matplotlib.pyplot as plt\nimport numpy as np\n\nfrom lisacattools.catalog import GWCatalogs\nfrom lisacattools.catalog import GWCatalogType\n\n# get list catalog files\ncatPath = \"../../tutorial/data/mbh\"\ncatalogs = GWCatalogs.create(GWCatalogType.MBH, catPath, \"*.h5\")\nlast_cat = catalogs.get_last_catalog()\ndetections_attr = last_cat.get_attr_detections()\ndetections = last_cat.get_detections(detections_attr)\n\n# plot the catalog in the m1-m2 plane\nfig, ax = plt.subplots(figsize=[8, 6], dpi=100)\nax.set_xscale(\"log\", nonpositive=\"clip\")\nax.set_yscale(\"log\", nonpositive=\"clip\")\nax.grid()\nax.set_xlabel(\"Mass 1 [MSun]\")\nax.set_ylabel(\"Mass 2 [MSun]\")\nax.legend(loc=\"lower right\")\nsrcs = list(detections.index)\nfor idx, src in enumerate(srcs):\n    sample = last_cat.get_source_samples(src)\n    l1, m1, h1 = np.quantile(np.array(sample[\"Mass 1\"]), [0.05, 0.5, 0.95])\n    l2, m2, h2 = np.quantile(np.array(sample[\"Mass 2\"]), [0.05, 0.5, 0.95])\n    if idx < 10:\n        mkr = \"o\"\n    else:\n        mkr = \"^\"\n    ax.errorbar(\n        m1,\n        m2,\n        xerr=np.vstack((m1 - l1, h1 - m1)),\n        yerr=np.vstack((m2 - l2, h2 - m2)),\n        label=src,\n        markersize=6,\n        capsize=2,\n        marker=mkr,\n        markerfacecolor=\"none\",\n    )\n\n\nplt.show()"
      ]
    }
  ],
  "metadata": {
    "kernelspec": {
      "display_name": "Python 3",
      "language": "python",
      "name": "python3"
    },
    "language_info": {
      "codemirror_mode": {
        "name": "ipython",
        "version": 3
      },
      "file_extension": ".py",
      "mimetype": "text/x-python",
      "name": "python",
      "nbconvert_exporter": "python",
      "pygments_lexer": "ipython3",
      "version": "3.10.6"
    }
  },
  "nbformat": 4,
  "nbformat_minor": 0
}