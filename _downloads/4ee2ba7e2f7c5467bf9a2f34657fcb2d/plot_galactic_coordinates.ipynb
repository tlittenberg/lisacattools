{
  "cells": [
    {
      "cell_type": "code",
      "execution_count": null,
      "metadata": {
        "collapsed": false
      },
      "outputs": [],
      "source": [
        "%matplotlib inline"
      ]
    },
    {
      "cell_type": "markdown",
      "metadata": {},
      "source": [
        "\n# 3D map of the galaxy\n\nCreate inferred map of the galaxy from chirping binaries\n"
      ]
    },
    {
      "cell_type": "markdown",
      "metadata": {},
      "source": [
        "This example demonstrates using chirping binaries to map the galaxy.\nSamples from the high SNR chirping binaries are reparameterized into galactic cartesian coordinates and plotted.\nImport modules\n\n"
      ]
    },
    {
      "cell_type": "code",
      "execution_count": null,
      "metadata": {
        "collapsed": false
      },
      "outputs": [],
      "source": [
        "import matplotlib.cm as cm\nimport matplotlib.colors as colors\nimport matplotlib.pyplot as plt\nimport numpy as np\nfrom matplotlib.patches import Ellipse\n\nfrom lisacattools import confidence_ellipse\nfrom lisacattools import convert_ecliptic_to_galactic\nfrom lisacattools import convert_galactic_to_cartesian\nfrom lisacattools import get_DL\nfrom lisacattools.catalog import GWCatalogs\nfrom lisacattools.catalog import GWCatalogType\n\n# Start by loading the main catalog file processed from GBMCMC outputs\ncatPath = \"../../tutorial/data/ucb\"\ncatalogs = GWCatalogs.create(GWCatalogType.UCB, catPath, \"cat15728640_v2.h5\")\nfinal_catalog = catalogs.get_last_catalog()\ndetections_attr = final_catalog.get_attr_detections()\ndetections = final_catalog.get_detections(detections_attr)\n\n# Get dataframe of only high SNR chirping events\nselected_detections = detections[\n    (detections[\"Frequency Derivative\"] > 0) & (detections[\"SNR\"] > 100)\n]\n\n# set up the figure\nfig, axs = plt.subplots(1, 2, figsize=(12, 6), dpi=100)\n\naxs[0].grid()\naxs[1].grid()\n\naxs[0].set(\n    xlim=(-10, 10),\n    ylim=(-10, 10),\n    xlabel=r\"$x_{\\rm GC}\\ [{\\rm kpc}]$\",\n    ylabel=r\"$y_{\\rm GC}\\ [{\\rm kpc}]$\",\n)\naxs[1].set(\n    xlim=(-10, 10),\n    ylim=(-10, 10),\n    xlabel=r\"$x_{\\rm GC}\\ [{\\rm kpc}]$\",\n    ylabel=r\"$z_{\\rm GC}\\ [{\\rm kpc}]$\",\n)\n\n\n# color ellipses by log SNR\ncNorm = colors.LogNorm(\n    vmin=selected_detections[\"SNR\"].min(),\n    vmax=selected_detections[\"SNR\"].max(),\n)\nscalarMap = cm.ScalarMappable(norm=cNorm, cmap=plt.cm.get_cmap(\"plasma_r\"))\ncbar = fig.colorbar(scalarMap)\ncbar.set_label(\"SNR\")\n\n# plot 1-sigma ellipses of 3D localization for each source\nsources = list(selected_detections.index)\nfor source in sources:\n\n    # get chain samples\n    samples = final_catalog.get_source_samples(source)\n    # convert from ecliptic to galactic coordinates\n    convert_ecliptic_to_galactic(samples)\n    # enforce GR prior\n    samples = samples[samples[\"Frequency Derivative\"] > 0]\n    # add distance parameter\n    get_DL(samples)\n\n    # add galactic cartesian coordinates\n    convert_galactic_to_cartesian(\n        samples,\n        \"Galactic Longitude\",\n        \"Galactic Latitude\",\n        \"Luminosity Distance\",\n    )\n\n    # plot galactic X-Y plane\n    confidence_ellipse(\n        samples[[\"X\", \"Y\"]],\n        axs[0],\n        n_std=1.0,\n        edgecolor=scalarMap.to_rgba(np.array(detections.loc[source].SNR)),\n        linewidth=1.0,\n    )\n\n    # plot galactic X-Z plane\n    confidence_ellipse(\n        samples[[\"X\", \"Z\"]],\n        axs[1],\n        n_std=1.0,\n        edgecolor=scalarMap.to_rgba(np.array(detections.loc[source].SNR)),\n        linewidth=1.0,\n    )\n\n\nplt.show()"
      ]
    }
  ],
  "metadata": {
    "kernelspec": {
      "display_name": "Python 3",
      "language": "python",
      "name": "python3"
    },
    "language_info": {
      "codemirror_mode": {
        "name": "ipython",
        "version": 3
      },
      "file_extension": ".py",
      "mimetype": "text/x-python",
      "name": "python",
      "nbconvert_exporter": "python",
      "pygments_lexer": "ipython3",
      "version": "3.10.6"
    }
  },
  "nbformat": 4,
  "nbformat_minor": 0
}