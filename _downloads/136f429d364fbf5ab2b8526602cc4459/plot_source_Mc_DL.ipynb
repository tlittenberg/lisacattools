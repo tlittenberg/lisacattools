{
  "cells": [
    {
      "cell_type": "code",
      "execution_count": null,
      "metadata": {
        "collapsed": false
      },
      "outputs": [],
      "source": [
        "%matplotlib inline"
      ]
    },
    {
      "cell_type": "markdown",
      "metadata": {},
      "source": [
        "\n# Resampling posteriors\n\nConvert sampling parameters to derived parameters\n"
      ]
    },
    {
      "cell_type": "markdown",
      "metadata": {},
      "source": [
        "This example shows how to change parameterization of the posterior samples.\nThe GBMCMC sampler uses frequency, frequency derivative, and GW amplitude in its waveform model.\nFor systems whose dynamics are driven by GR, those parameters can be converted to chirp mass and luminosity distance.\nHere is a demonstration of how to do that by producing a chirpmass-distance corner plot.\nImport modules\n\n"
      ]
    },
    {
      "cell_type": "code",
      "execution_count": null,
      "metadata": {
        "collapsed": false
      },
      "outputs": [],
      "source": [
        "import matplotlib.pyplot as plt\nfrom chainconsumer import ChainConsumer\n\nfrom lisacattools import get_DL\nfrom lisacattools import get_Mchirp\nfrom lisacattools.catalog import GWCatalog\nfrom lisacattools.catalog import GWCatalogs\nfrom lisacattools.catalog import GWCatalogType\n\n# Start by loading the main catalog file processed from GBMCMC outputs\ncatPath = \"../../tutorial/data/ucb\"\ncatalogs = GWCatalogs.create(GWCatalogType.UCB, catPath, \"cat15728640_v2.h5\")\nfinal_catalog = catalogs.get_last_catalog()\ndetections_attr = final_catalog.get_attr_detections()\ndetections = final_catalog.get_detections(detections_attr)\n\n# Sort table by SNR and select highest SNR source\ndetections.sort_values(by=\"SNR\", ascending=False, inplace=True)\nsourceId = detections.index[0]\nsamples = final_catalog.get_source_samples(sourceId)\n\n# Reject chain samples with negative fdot (enforce GR-driven prior)\nsamples_GR = samples[(samples[\"Frequency Derivative\"] > 0)]\n\n# Add distance and chirpmass to samples\nget_DL(samples_GR)\nget_Mchirp(samples_GR)\n\n# Make corner plot\nparameters = [\"Chirp Mass\", \"Luminosity Distance\"]\nparameter_symbols = [r\"$\\mathcal{M}\\ [{\\rm M}_\\odot]$\", r\"$D_L\\ [{\\rm kpc}]$\"]\n\ndf = samples_GR[parameters].values\n\nc = ChainConsumer().add_chain(df, parameters=parameter_symbols, cloud=True)\nc.configure(flip=False)\nfig = c.plotter.plot(figsize=1.5)\nplt.show()"
      ]
    }
  ],
  "metadata": {
    "kernelspec": {
      "display_name": "Python 3",
      "language": "python",
      "name": "python3"
    },
    "language_info": {
      "codemirror_mode": {
        "name": "ipython",
        "version": 3
      },
      "file_extension": ".py",
      "mimetype": "text/x-python",
      "name": "python",
      "nbconvert_exporter": "python",
      "pygments_lexer": "ipython3",
      "version": "3.10.6"
    }
  },
  "nbformat": 4,
  "nbformat_minor": 0
}