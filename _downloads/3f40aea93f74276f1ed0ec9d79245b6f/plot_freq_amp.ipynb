{
  "cells": [
    {
      "cell_type": "code",
      "execution_count": null,
      "metadata": {
        "collapsed": false
      },
      "outputs": [],
      "source": [
        "%matplotlib inline"
      ]
    },
    {
      "cell_type": "markdown",
      "metadata": {},
      "source": [
        "\n# Scatter plots\n\nScatter plot of detections' point estimates and LISA sensitivity curve.\n"
      ]
    },
    {
      "cell_type": "code",
      "execution_count": null,
      "metadata": {
        "collapsed": false
      },
      "outputs": [],
      "source": [
        "import matplotlib.cm as cm\nimport matplotlib.colors as colors\nimport matplotlib.pyplot as plt\nimport numpy as np\n\nfrom lisacattools import getSciRD\nfrom lisacattools.catalog import GWCatalogs\nfrom lisacattools.catalog import GWCatalogType\n\n# load catalog\ncatPath = \"../../tutorial/data/ucb\"\ncatalogs = GWCatalogs.create(GWCatalogType.UCB, catPath, \"cat15728640_v2.h5\")\nmeta = catalogs.metadata\n\nfinal_catalog = catalogs.get_last_catalog()\ndetections_attr = final_catalog.get_attr_detections()\ndetections = final_catalog.get_detections(detections_attr)\n\n\n# set up matplotlib figure\nfig = plt.figure(figsize=(12, 6), dpi=100)\nax = plt.axes()\n\nplt.yscale(\"log\")\nplt.xscale(\"log\")\nplt.xlabel(\"Frequency (Hz)\", fontsize=14)\nplt.ylabel(\"Strain Amplitude\", fontsize=14)\nplt.title(\n    \"Point estimates for %i sources found in catalog %s\"\n    % (len(detections), meta.index[0]),\n    fontsize=18,\n)\n\n# color points in scatter plot by SNR\ncNorm = colors.LogNorm(\n    vmin=detections[\"SNR\"].min(), vmax=detections[\"SNR\"].max()\n)  # re-wrapping normalization\nscalarMap = cm.ScalarMappable(norm=cNorm, cmap=plt.cm.get_cmap(\"cool\"))\ncbar = fig.colorbar(scalarMap)\ncbar.set_label(\"SNR\", fontsize=14)\n\n\n# the scatter plot\ndetections.plot(\n    kind=\"scatter\",\n    x=\"Frequency\",\n    y=\"Amplitude\",\n    marker=\".\",\n    c=scalarMap.to_rgba(np.array(detections[\"SNR\"])),\n    ax=ax,\n)\n\n# add sensitivity curve\nf = np.logspace(-4, 0, 512)\nax.plot(f, getSciRD(f, meta.iloc[0][\"Observation Time\"]), color=\"k\")\nax.legend([\"Instrument Sensitivity\", \"resolved GBs\"], fontsize=14)\nax.grid()\n\nplt.show()"
      ]
    }
  ],
  "metadata": {
    "kernelspec": {
      "display_name": "Python 3",
      "language": "python",
      "name": "python3"
    },
    "language_info": {
      "codemirror_mode": {
        "name": "ipython",
        "version": 3
      },
      "file_extension": ".py",
      "mimetype": "text/x-python",
      "name": "python",
      "nbconvert_exporter": "python",
      "pygments_lexer": "ipython3",
      "version": "3.10.6"
    }
  },
  "nbformat": 4,
  "nbformat_minor": 0
}