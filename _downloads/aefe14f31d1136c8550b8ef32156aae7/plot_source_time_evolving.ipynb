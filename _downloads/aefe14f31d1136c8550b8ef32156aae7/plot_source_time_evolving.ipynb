{
  "cells": [
    {
      "cell_type": "code",
      "execution_count": null,
      "metadata": {
        "collapsed": false
      },
      "outputs": [],
      "source": [
        "%matplotlib inline"
      ]
    },
    {
      "cell_type": "markdown",
      "metadata": {},
      "source": [
        "\n# Time-evolving parameter estimation\n\nCorner plot of select parameters for a single source showing how\nparameter estimation changes with observing time.\n"
      ]
    },
    {
      "cell_type": "code",
      "execution_count": null,
      "metadata": {
        "collapsed": false
      },
      "outputs": [],
      "source": [
        "import matplotlib.pyplot as plt\nfrom chainconsumer import ChainConsumer\n\nfrom lisacattools.catalog import GWCatalogs\nfrom lisacattools.catalog import GWCatalogType\n\n\n# Find the list of catalogs\ncatPath = \"../../tutorial/data/mbh\"\ncatalogs = GWCatalogs.create(GWCatalogType.MBH, catPath, \"*.h5\")\n\nlast_cat = catalogs.get_last_catalog()\ndetections_attr = last_cat.get_attr_detections()\ndetections = last_cat.get_detections(detections_attr)"
      ]
    },
    {
      "cell_type": "markdown",
      "metadata": {},
      "source": [
        "Choose a source from the list of detections and get its history through the different catalogs\nPick a source, any source\n\n"
      ]
    },
    {
      "cell_type": "code",
      "execution_count": null,
      "metadata": {
        "collapsed": false
      },
      "outputs": [],
      "source": [
        "sourceIdx = \"MBH005546845\""
      ]
    },
    {
      "cell_type": "markdown",
      "metadata": {},
      "source": [
        "Load chains for different observing epochs of selected source\nGet source history and display table with parameters and observing weeks containing source\n\n"
      ]
    },
    {
      "cell_type": "code",
      "execution_count": null,
      "metadata": {
        "collapsed": false
      },
      "outputs": [],
      "source": [
        "srcHist = catalogs.get_lineage(last_cat.name, sourceIdx)\nsrcHist.drop_duplicates(subset=\"Log Likelihood\", keep=\"last\", inplace=True)\nsrcHist.sort_values(by=\"Observation Week\", ascending=True, inplace=True)\nsrcHist[\n    [\n        \"Observation Week\",\n        \"Parent\",\n        \"Log Likelihood\",\n        \"Mass 1\",\n        \"Mass 2\",\n        \"Luminosity Distance\",\n    ]\n]\n\n# Load chains for different observing epochs of selected source\nallEpochs = catalogs.get_lineage_data(srcHist)"
      ]
    },
    {
      "cell_type": "markdown",
      "metadata": {},
      "source": [
        "Create corner for multiple observing epochs\n\n"
      ]
    },
    {
      "cell_type": "code",
      "execution_count": null,
      "metadata": {
        "collapsed": false
      },
      "outputs": [],
      "source": [
        "# Choose weeks for plot from source history table\nwks = [4, 8, 10]\n\n# select subset of parameters to plot\nparameters = [\"Mass 1\", \"Mass 2\", \"Luminosity Distance\"]\nparameter_labels = [\n    r\"$m_1\\ [{\\rm M}_\\odot]$\",\n    r\"$m_2\\ [{\\rm M}_\\odot]$\",\n    r\"$D_L\\ [{\\rm Gpc}]$\",\n]\nranges = [(10000, 50000), (1000, 5000), (16, 40)]\n\nc = ChainConsumer()\nfor idx, wk in enumerate(wks):\n    epoch = allEpochs[allEpochs[\"Observation Week\"] == wk]\n    samples = epoch[parameters].values\n    c.add_chain(samples, parameters=parameter_labels, name=\"Week \" + str(wk))\n\nc.configure(cmap=\"plasma\")\nfig = c.plotter.plot(figsize=1.5, log_scales=False, extents=ranges)\nplt.show()"
      ]
    }
  ],
  "metadata": {
    "kernelspec": {
      "display_name": "Python 3",
      "language": "python",
      "name": "python3"
    },
    "language_info": {
      "codemirror_mode": {
        "name": "ipython",
        "version": 3
      },
      "file_extension": ".py",
      "mimetype": "text/x-python",
      "name": "python",
      "nbconvert_exporter": "python",
      "pygments_lexer": "ipython3",
      "version": "3.10.6"
    }
  },
  "nbformat": 4,
  "nbformat_minor": 0
}