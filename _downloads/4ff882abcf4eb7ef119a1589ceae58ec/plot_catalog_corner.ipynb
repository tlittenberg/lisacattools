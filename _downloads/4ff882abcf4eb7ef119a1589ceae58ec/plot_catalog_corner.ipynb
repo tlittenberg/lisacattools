{
  "cells": [
    {
      "cell_type": "code",
      "execution_count": null,
      "metadata": {
        "collapsed": false
      },
      "outputs": [],
      "source": [
        "%matplotlib inline"
      ]
    },
    {
      "cell_type": "markdown",
      "metadata": {},
      "source": [
        "\n# Full catalog corner plots\n\nCorner plot of select parameters for the full catalog.\n"
      ]
    },
    {
      "cell_type": "code",
      "execution_count": null,
      "metadata": {
        "collapsed": false
      },
      "outputs": [],
      "source": [
        "import matplotlib.pyplot as plt\nfrom chainconsumer import ChainConsumer\n\nfrom lisacattools.catalog import GWCatalogs\nfrom lisacattools.catalog import GWCatalogType"
      ]
    },
    {
      "cell_type": "markdown",
      "metadata": {},
      "source": [
        "Load the catalog files\n\n"
      ]
    },
    {
      "cell_type": "code",
      "execution_count": null,
      "metadata": {
        "collapsed": false
      },
      "outputs": [],
      "source": [
        "catPath = \"../../tutorial/data/mbh\"\ncatalogs = GWCatalogs.create(GWCatalogType.MBH, catPath, \"*.h5\")"
      ]
    },
    {
      "cell_type": "markdown",
      "metadata": {},
      "source": [
        "Read individual DataFrames'\n\n"
      ]
    },
    {
      "cell_type": "code",
      "execution_count": null,
      "metadata": {
        "collapsed": false
      },
      "outputs": [],
      "source": [
        "meta = catalogs.metadata"
      ]
    },
    {
      "cell_type": "markdown",
      "metadata": {},
      "source": [
        "sort metadata by observation week, putting most recent catalog last in the list\n\n"
      ]
    },
    {
      "cell_type": "code",
      "execution_count": null,
      "metadata": {
        "collapsed": false
      },
      "outputs": [],
      "source": [
        "meta = meta.sort_values(by=\"observation week\")"
      ]
    },
    {
      "cell_type": "markdown",
      "metadata": {},
      "source": [
        "load the detections of the most recent catalog\n\n"
      ]
    },
    {
      "cell_type": "code",
      "execution_count": null,
      "metadata": {
        "collapsed": false
      },
      "outputs": [],
      "source": [
        "last_cat = catalogs.get_last_catalog()\nattr_detections = last_cat.get_attr_detections()\ndetections = last_cat.get_detections(attr_detections)"
      ]
    },
    {
      "cell_type": "markdown",
      "metadata": {},
      "source": [
        "Create the corner plot with ChainConsumer\n\n"
      ]
    },
    {
      "cell_type": "code",
      "execution_count": null,
      "metadata": {
        "collapsed": false
      },
      "outputs": [],
      "source": [
        "c = ChainConsumer()\n\n# selected parameters to plot\nparameters = [\"Mass 1\", \"Mass 2\", \"Luminosity Distance\"]\n\n# how parameter names should be formatted in figure\nparameter_symbols = [\n    r\"$m_1\\ [{\\rm M}_\\odot]$\",\n    r\"$m_2\\ [{\\rm M}_\\odot]$\",\n    r\"$D_L\\ [{\\rm Gpc}]$\",\n]\n\nsources = last_cat.get_detections()\nfor source in sources:\n\n    # get chain samples\n    samples_attr = last_cat.get_attr_source_samples(source)\n    samples = last_cat.get_source_samples(source, samples_attr)\n\n    # get dataframe into numpy array\n    df = samples[parameters].values\n\n    # add samples to chainconsumer\n    c.add_chain(df, parameters=parameter_symbols, name=source)\n\n# plot!\nc.configure(plot_hists=False)\nfig = c.plotter.plot(figsize=1.5, log_scales=True)\nplt.show()"
      ]
    }
  ],
  "metadata": {
    "kernelspec": {
      "display_name": "Python 3",
      "language": "python",
      "name": "python3"
    },
    "language_info": {
      "codemirror_mode": {
        "name": "ipython",
        "version": 3
      },
      "file_extension": ".py",
      "mimetype": "text/x-python",
      "name": "python",
      "nbconvert_exporter": "python",
      "pygments_lexer": "ipython3",
      "version": "3.10.6"
    }
  },
  "nbformat": 4,
  "nbformat_minor": 0
}